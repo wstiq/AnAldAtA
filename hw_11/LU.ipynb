{
 "cells": [
  {
   "cell_type": "markdown",
   "metadata": {},
   "source": [
    "### __1.__ Решить систему уравнений методом Гаусса:\n",
    "\n",
    "$$\\begin{cases}\n",
    "x_{1}+x_{2}-x_{3}-2x_{4}=0, \\\\\n",
    "2x_{1}+x_{2}-x_{3}+x_{4}=-2, \\\\\n",
    "x_{1}+x_{2}-3x_{3}+x_{4}=4.\n",
    "\\end{cases}$$"
   ]
  },
  {
   "cell_type": "markdown",
   "metadata": {},
   "source": [
    "__РЕШЕНИЕ__\n",
    "\n",
    "$$\\begin{pmatrix}\n",
    "\\left.\\begin{matrix}\n",
    "1 & 1 & -1 & -2\\\\ \n",
    "2 & 1 & -1 & 1\\\\ \n",
    "1 & 1 & -3 & 1\n",
    "\\end{matrix}\\right|\n",
    "\\begin{matrix}\n",
    "0\\\\ \n",
    "-2\\\\\n",
    "4\\\\\n",
    "\\end{matrix}\n",
    "\\end{pmatrix}\\Leftrightarrow \\begin{pmatrix}\n",
    "\\left.\\begin{matrix}\n",
    "1 & 1 & -1 & -2\\\\ \n",
    "0 & -1 & 1 & 5\\\\ \n",
    "0 & 0 & -2 & 3\n",
    "\\end{matrix}\\right|\n",
    "\\begin{matrix}\n",
    "0\\\\ \n",
    "-2\\\\\n",
    "4\\\\\n",
    "\\end{matrix}\n",
    "\\end{pmatrix}\\Leftrightarrow \\begin{pmatrix}\n",
    "\\left.\\begin{matrix}\n",
    "1 & 0 & 0 & 3\\\\ \n",
    "0 & 1 & 0 & -6.5\\\\ \n",
    "0 & 0 & 1 & -1.5\n",
    "\\end{matrix}\\right|\n",
    "\\begin{matrix}\n",
    "-2\\\\ \n",
    "0\\\\\n",
    "-2\\\\\n",
    "\\end{matrix}\n",
    "\\end{pmatrix}\\Leftrightarrow\\begin{cases}\n",
    "x_{1}=-2-3x_4 \\\\\n",
    "x_{2}=6.5x_4 \\\\\n",
    "x_{3}=1.5x_4-2\n",
    "\\end{cases}$$\n",
    "\n",
    "СЛАУ имеет бесконечное кол-во решение указанного вида"
   ]
  },
  {
   "cell_type": "markdown",
   "metadata": {},
   "source": [
    "### __2.__ Проверить на совместность и выяснить, сколько решений будет иметь система линейных уравнений:\n",
    "\n",
    "   а) $\\begin{cases}\n",
    "3x_{1}-x_{2}+x_{3}=4, \\\\\n",
    "2x_{1}-5x_{2}-3x_{3}=-17, \\\\\n",
    "x_{1}+x_{2}-x_{3}=0;\n",
    "\\end{cases}\\leftrightarrow\\begin{cases}\n",
    "x_{1}=1, \\\\\n",
    "x_{3}=3, \\\\\n",
    "x_{2}=2;\n",
    "\\end{cases}$"
   ]
  },
  {
   "cell_type": "code",
   "execution_count": 2,
   "metadata": {},
   "outputs": [
    {
     "name": "stdout",
     "output_type": "stream",
     "text": [
      "Ранг матрицы коэфициентов: 3\n",
      "Ранг расширенной матрицы: 3\n"
     ]
    }
   ],
   "source": [
    "import numpy as np\n",
    "A = np.array([[3, -1, 1], [2, -5, -3], [1, 1, -1]])\n",
    "print(\"Ранг матрицы коэфициентов:\", np.linalg.matrix_rank(A))\n",
    "A_ = np.array([[3, -1, 1, 4], [2, -5, -3, -17], [1, 1, -1, 0]])\n",
    "print(\"Ранг расширенной матрицы:\", np.linalg.matrix_rank(A_))"
   ]
  },
  {
   "cell_type": "markdown",
   "metadata": {},
   "source": [
    "> СЛАУ совместимая с одним решением"
   ]
  },
  {
   "cell_type": "markdown",
   "metadata": {},
   "source": [
    "б) $\\begin{cases}\n",
    "2x_{1}-4x_{2}+6x_{3}=1, \\\\\n",
    "x_{1}-2x_{2}+3x_{3}=-2, \\\\\n",
    "3x_{1}-6x_{2}+9x_{3}=5;\n",
    "\\end{cases}\\leftrightarrow \\begin{cases}\n",
    "0=5, \\\\\n",
    "x_{1}-2x_{2}+3x_{3}=-2, \\\\\n",
    "0=11;\n",
    "\\end{cases}$"
   ]
  },
  {
   "cell_type": "code",
   "execution_count": 5,
   "metadata": {},
   "outputs": [
    {
     "name": "stdout",
     "output_type": "stream",
     "text": [
      "Ранг матрицы коэфициентов: 2\n",
      "Ранг расширенной матрицы: 3\n"
     ]
    }
   ],
   "source": [
    "import numpy as np\n",
    "A = np.array([[2,-4,-6],[1,-2,3],[3,-6,9]])\n",
    "print(\"Ранг матрицы коэфициентов:\", np.linalg.matrix_rank(A))\n",
    "A_ = np.array([[2,-4,-6,1],[1,-2,3,-2],[3,-6,9,5]])\n",
    "print(\"Ранг расширенной матрицы:\", np.linalg.matrix_rank(A_))"
   ]
  },
  {
   "cell_type": "markdown",
   "metadata": {},
   "source": [
    "> СЛАУ несовместимая и не имеет решений"
   ]
  },
  {
   "cell_type": "markdown",
   "metadata": {},
   "source": [
    "в) $\\begin{cases}\n",
    "x_{1}+2x_{2}+5x_{3}=4, \\\\\n",
    "3x_{1}+x_{2}-8x_{3}=-2. \n",
    "\\end{cases} \\leftrightarrow\\begin{cases}\n",
    "5x_{1} = 21x_3 - 8, \\\\\n",
    "5x_{2} = 14 - 23x_3 \n",
    "\\end{cases}$"
   ]
  },
  {
   "cell_type": "code",
   "execution_count": 6,
   "metadata": {},
   "outputs": [
    {
     "name": "stdout",
     "output_type": "stream",
     "text": [
      "Ранг матрицы коэфициентов: 2\n",
      "Ранг расширенной матрицы: 2\n"
     ]
    }
   ],
   "source": [
    "A = np.array([[1,2,5],[3,1,-8]])\n",
    "print(\"Ранг матрицы коэфициентов:\", np.linalg.matrix_rank(A))\n",
    "A_ = np.array([[1,2,5,4],[3,1,-8,-2]])\n",
    "print(\"Ранг расширенной матрицы:\", np.linalg.matrix_rank(A_))"
   ]
  },
  {
   "cell_type": "markdown",
   "metadata": {},
   "source": [
    "> СЛАУ совместимая с бесконечным кол-вом решений"
   ]
  },
  {
   "cell_type": "markdown",
   "metadata": {},
   "source": [
    "### __3.__ Проверить на совместность и выяснить, сколько решений будет иметь система линейных уравнений, заданная расширенной матрицей\n",
    "\n",
    "$$\\tilde{A}=\\begin{pmatrix}\n",
    "\\left.\\begin{matrix}\n",
    "1 & 3 & -2 & 4\\\\ \n",
    "0 & 5 & 0 & 1\\\\ \n",
    "0 & 0 & 3 & 0\\\\ \n",
    "0 & 0 & 0 & 2\n",
    "\\end{matrix}\\right|\n",
    "\\begin{matrix}\n",
    "3\\\\ \n",
    "2\\\\\n",
    "4\\\\\n",
    "1\n",
    "\\end{matrix}\n",
    "\\end{pmatrix}.$$"
   ]
  },
  {
   "cell_type": "code",
   "execution_count": 7,
   "metadata": {},
   "outputs": [
    {
     "name": "stdout",
     "output_type": "stream",
     "text": [
      "Ранг матрицы коэфициентов: 4\n",
      "Ранг расширенной матрицы: 4\n",
      "Согласно Теореме Кронекера — Капелли система совместима и имеет одно решение так как ранг матрицы коэфициентов и расширеной матрицы совпадают и равны числу неизвестных\n"
     ]
    }
   ],
   "source": [
    "import numpy as np\n",
    "A = np.array([[1,3,-2,4],[0,5,0,1],[0,0,3,0],[0,0,0,2]])\n",
    "\n",
    "A_ = np.array([[1,3,-2,4,3],[0,5,0,1,2],[0,0,3,0,4],[0,0,0,2,1]])\n",
    "\n",
    "print(\"Ранг матрицы коэфициентов:\", np.linalg.matrix_rank(A))\n",
    "print(\"Ранг расширенной матрицы:\", np.linalg.matrix_rank(A_))\n",
    "print(\"Согласно Теореме Кронекера — Капелли система совместима и имеет одно решение так как ранг матрицы коэфициентов и расширеной матрицы совпадают и равны числу неизвестных\")"
   ]
  },
  {
   "cell_type": "markdown",
   "metadata": {},
   "source": [
    "### __4.__ Дана система линейных уравнений, заданная расширенной матрицей\n",
    "\n",
    "$$\\tilde{A}=\\begin{pmatrix}\n",
    "\\left.\\begin{matrix}\n",
    "1 & 2 & 3\\\\ \n",
    "4 & 5 & 6\\\\ \n",
    "7 & 8 & 9\n",
    "\\end{matrix}\\right|\n",
    "\\begin{matrix}\n",
    "a\\\\ \n",
    "b\\\\\n",
    "c\n",
    "\\end{matrix}\n",
    "\\end{pmatrix}.$$\n",
    "\n",
    "Найти соотношение между параметрами $a$, $b$ и $c$, при которых система является несовместной."
   ]
  },
  {
   "cell_type": "markdown",
   "metadata": {},
   "source": [
    "В случае если равенство\n",
    "\n",
    "$c = 2b - a$\n",
    "\n",
    "не выполняется, система является не совместной"
   ]
  },
  {
   "cell_type": "markdown",
   "metadata": {},
   "source": [
    "### __5.__ Решить систему уравнений методом Крамера:\n",
    "\n",
    "   а) $\\begin{cases}\n",
    "x_{1}-2x_{2}=1 \\\\\n",
    "3x_{1}-4x_{2}=7\n",
    "\\end{cases}$"
   ]
  },
  {
   "cell_type": "code",
   "execution_count": 8,
   "metadata": {},
   "outputs": [
    {
     "name": "stdout",
     "output_type": "stream",
     "text": [
      "х1 = 5\n",
      "х2 = 2\n"
     ]
    }
   ],
   "source": [
    "A = np.array([[1,-2],[3,-4]])\n",
    "A1 = np.array([[1,-2],[7,-4]])\n",
    "A2 = np.array([[1,1],[3,7]])\n",
    "print(f'х1 = {np.linalg.det(A1)/np.linalg.det(A):.0f}')\n",
    "print(f'х2 = {np.linalg.det(A2)/np.linalg.det(A):.0f}')"
   ]
  },
  {
   "cell_type": "markdown",
   "metadata": {},
   "source": [
    "###  __6.__ Найти $L$-матрицу $LU$-разложения для матрицы коэффициентов:"
   ]
  },
  {
   "cell_type": "markdown",
   "metadata": {},
   "source": [
    "  $$\\begin{pmatrix}\n",
    "1 & 2 & 4 \\\\ \n",
    "2 & 9 & 12 \\\\ \n",
    "3 & 26 & 30\n",
    "\\end{pmatrix}$$\n",
    "\n",
    "$$U = \\begin{pmatrix}\n",
    "1 & 2 & 4 \\\\ \n",
    "0 & 5 & 4 \\\\ \n",
    "0 & 0 & 2\n",
    "\\end{pmatrix}$$\n",
    "\n",
    "$$L = \\begin{pmatrix}\n",
    "1 & 0 & 0 \\\\ \n",
    "2 & 1 & 0 \\\\ \n",
    "3 & 4 & 1\n",
    "\\end{pmatrix}$$"
   ]
  },
  {
   "cell_type": "markdown",
   "metadata": {},
   "source": [
    "Умножаем первую строчку на 2 и 3 и вычитаем соответственно из 2 и 3 строки. Подставляем в L значения 2 и 3. Умножаем вторую сторочку на 5 и вычитаем из 3. Подставляем значение 5. Мы получили верхнетреуглльную и нижнетреугольную матрицы."
   ]
  },
  {
   "cell_type": "code",
   "execution_count": 9,
   "metadata": {},
   "outputs": [
    {
     "name": "stdout",
     "output_type": "stream",
     "text": [
      "[[ 1.  2.  4.]\n",
      " [ 2.  9. 12.]\n",
      " [ 3. 26. 30.]]\n",
      "L-матрица:\n",
      "[[1.         0.         0.        ]\n",
      " [0.66666667 1.         0.        ]\n",
      " [0.33333333 0.8        1.        ]]\n"
     ]
    }
   ],
   "source": [
    "from scipy.linalg import lu\n",
    "A = np.array([[1, 2, 4], [2, 9, 12], [3, 26, 30]])\n",
    "P, L, U = lu(A)\n",
    "B = P.dot(L).dot(U)\n",
    "print(B)\n",
    "print('L-матрица:')\n",
    "print(L)"
   ]
  },
  {
   "cell_type": "markdown",
   "metadata": {},
   "source": [
    "### __7.__ Решить систему линейных уравнений методом $LU$-разложения\n",
    "\n",
    "$$\\begin{cases}\n",
    "2x_{1}+x_{2}+3x_{3}=1 \\\\\n",
    "11x_{1}+7x_{2}+5x_{3}=-6 \\\\\n",
    "9x_{1}+8x_{2}+4x_{3}=-5\n",
    "\\end{cases}$$"
   ]
  },
  {
   "cell_type": "markdown",
   "metadata": {},
   "source": [
    "Матрица коэффициентов $A$ будет иметь вид\n",
    "\n",
    "$$\\begin{pmatrix}\n",
    "2 & 1 & 3 \\\\ \n",
    "11 & 7 & 5 \\\\ \n",
    "9 & 8 & 4\n",
    "\\end{pmatrix}.$$\n",
    "\n",
    "Начнем прямой ход метода Гаусса:\n",
    "\n",
    "$$\\begin{pmatrix}\n",
    "2 & 1 & 3 \\\\ \n",
    "0 & \\frac{3}{2} & \\frac{-23}{2} \\\\ \n",
    "0 & 0 & \\frac{52}{3}\n",
    "\\end{pmatrix}.$$\n",
    "\n",
    "Матрица L - \n",
    "$$L=\\begin{pmatrix}\n",
    "1 & 0 & 0 \\\\ \n",
    "\\frac{11}{2} & 1 & 0 \\\\ \n",
    "\\frac{9}{2} & \\frac{7}{2} & 1\n",
    "\\end{pmatrix}.$$\n",
    "\n",
    "Матрица U -\n",
    "\n",
    "$$U=\\begin{pmatrix}\n",
    "2 & 1 & 3 \\\\ \n",
    "0 & 3 & -23 \\\\ \n",
    "0 & 0 & \\frac{52}{9}\n",
    "\\end{pmatrix},$$\n",
    "\n",
    "Решим теперь систему $Ly=b:$\n",
    "\n",
    "$$\\begin{cases}\n",
    "y_{1}=1, \\\\\n",
    "\\frac{11}{2}y_{1}+y_{2}=-6, \\\\\n",
    "\\frac{9}{2}y_{1}+ \\frac{7}{2}y_{2}+y_{3}=-5.\n",
    "\\end{cases}$$$$y_{1} = 1,$$$$y_{2}=-6 -\\frac{11}{2} =11.5$$$$y_{3}=-5-\\frac{9}{2} - \\frac{7}{2}=-13.$$\n",
    "И затем систему\n",
    "\n",
    "$$x_1 = -1$$\n",
    "Произведем проверку, подставив полученные значения переменных в исходную систему:$$\\begin{cases}\n",
    "2(-1)+3=1 \\\\\n",
    "11(-1)+5=-6 \\\\\n",
    "9(-1)+4=-5\n",
    "\\end{cases}$$\n"
   ]
  },
  {
   "cell_type": "markdown",
   "metadata": {},
   "source": [
    "### __8.__ Решить систему линейных уравнений методом Холецкого\n",
    "\n",
    "$$\\begin{cases}\n",
    "81x_{1}-45x_{2}+45x_{3}=531 \\\\\n",
    "-45x_{1}+50x_{2}-15x_{3}=-460 \\\\\n",
    "45x_{1}-15x_{2}+38x_{3}=193\n",
    "\\end{cases}$$"
   ]
  },
  {
   "cell_type": "code",
   "execution_count": 12,
   "metadata": {},
   "outputs": [
    {
     "name": "stdout",
     "output_type": "stream",
     "text": [
      "[[ 9.  0.  0.]\n",
      " [-5.  5.  0.]\n",
      " [ 5.  2.  3.]]\n"
     ]
    }
   ],
   "source": [
    "from numpy.linalg import cholesky\n",
    "A = np.array([[81, -45, 45], [-45, 50, -15], [45, -15, 38]])\n",
    "L = cholesky(A)\n",
    "print(L)"
   ]
  },
  {
   "cell_type": "markdown",
   "metadata": {},
   "source": [
    "Решим систему $Ly=b:$\n",
    "\n",
    "$$\\begin{cases}\n",
    "9y_{1}=531, \\\\\n",
    "-5y_{1}+5y_{2}=-460, \\\\\n",
    "5y_{1}+2y_{2}+3y_{3}=193.\n",
    "\\end{cases}$$"
   ]
  },
  {
   "cell_type": "code",
   "execution_count": 13,
   "metadata": {},
   "outputs": [
    {
     "name": "stdout",
     "output_type": "stream",
     "text": [
      "[[ 9. -5.  5.]\n",
      " [ 0.  5.  2.]\n",
      " [ 0.  0.  3.]]\n"
     ]
    }
   ],
   "source": [
    "print(L.T)"
   ]
  },
  {
   "cell_type": "markdown",
   "metadata": {},
   "source": [
    "Решим систему $L^{T}x=y:$\n",
    "\n",
    "$$\\begin{cases}\n",
    "9x_{1}-5x_{2}+5x_{3}=59, \\\\\n",
    "5x_{2}+2x_{3}=-33, \\\\\n",
    "3x_{3}=-12.\n",
    "\\end{cases}$$\n",
    "$$x_{1}=6,$$$$x_{2}=-5,$$$$x_{3}=-4.$$"
   ]
  },
  {
   "cell_type": "markdown",
   "metadata": {},
   "source": [
    "### __9.__ Найти с помощью NumPy SVD для матрицы\n",
    "\n",
    "$$\\begin{pmatrix}\n",
    "1 & 2 & 0\\\\ \n",
    "0 & 0 & 5\\\\ \n",
    "3 & -4 & 2\\\\ \n",
    "1 & 6 & 5\\\\ \n",
    "0 & 1 & 0\n",
    "\\end{pmatrix}.$$"
   ]
  },
  {
   "cell_type": "code",
   "execution_count": 14,
   "metadata": {},
   "outputs": [
    {
     "name": "stdout",
     "output_type": "stream",
     "text": [
      "Матрица D:\n",
      "[[8.82486885 0.         0.        ]\n",
      " [0.         6.14060608 0.        ]\n",
      " [0.         0.         2.53271528]\n",
      " [0.         0.         0.        ]\n",
      " [0.         0.         0.        ]]\n",
      "Матрица U:\n",
      "[[ 0.17056501  0.15680918 -0.53077508 -0.79905375 -0.16158397]\n",
      " [ 0.39287016 -0.52933945  0.6134793  -0.43375771  0.03082495]\n",
      " [-0.14366152 -0.82449256 -0.52379105  0.14049848  0.07400343]\n",
      " [ 0.88843702  0.06074346 -0.24655277  0.37755832 -0.06042632]\n",
      " [ 0.08125046  0.10831843 -0.08231425 -0.10524851  0.98173958]]\n",
      "Матрица V:\n",
      "[[ 0.07116451 -0.36737824 -0.92734505]\n",
      " [ 0.71702467  0.66514082 -0.20847855]\n",
      " [ 0.69340553 -0.65009301  0.31075368]]\n"
     ]
    }
   ],
   "source": [
    "A = np.array([[1, 2, 0], [0, 0, 5], [3, -4, 2], [1, 6, 5], [0, 1, 0]])\n",
    "U, s, VT = np.linalg.svd(A)\n",
    "V = VT.T\n",
    "D = np.zeros_like(A, dtype=float)\n",
    "D[np.diag_indices(min(A.shape))] = s\n",
    "print(f'Матрица D:\\n{D}')\n",
    "print(f'Матрица U:\\n{U}')\n",
    "print(f'Матрица V:\\n{V}')"
   ]
  },
  {
   "cell_type": "code",
   "execution_count": null,
   "metadata": {},
   "outputs": [],
   "source": []
  }
 ],
 "metadata": {
  "kernelspec": {
   "display_name": "Python 3",
   "language": "python",
   "name": "python3"
  },
  "language_info": {
   "codemirror_mode": {
    "name": "ipython",
    "version": 3
   },
   "file_extension": ".py",
   "mimetype": "text/x-python",
   "name": "python",
   "nbconvert_exporter": "python",
   "pygments_lexer": "ipython3",
   "version": "3.7.4"
  }
 },
 "nbformat": 4,
 "nbformat_minor": 2
}
