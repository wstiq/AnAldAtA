{
 "cells": [
  {
   "cell_type": "code",
   "execution_count": 1,
   "metadata": {
    "id": "5Yc8uWtisYDw"
   },
   "outputs": [
    {
     "ename": "FileNotFoundError",
     "evalue": "[Errno 2] No such file or directory: 'wine.mat'",
     "output_type": "error",
     "traceback": [
      "\u001b[1;31m---------------------------------------------------------------------------\u001b[0m",
      "\u001b[1;31mFileNotFoundError\u001b[0m                         Traceback (most recent call last)",
      "\u001b[1;32m~\\Anaconda3\\lib\\site-packages\\scipy\\io\\matlab\\mio.py\u001b[0m in \u001b[0;36m_open_file\u001b[1;34m(file_like, appendmat, mode)\u001b[0m\n\u001b[0;32m     38\u001b[0m     \u001b[1;32mtry\u001b[0m\u001b[1;33m:\u001b[0m\u001b[1;33m\u001b[0m\u001b[1;33m\u001b[0m\u001b[0m\n\u001b[1;32m---> 39\u001b[1;33m         \u001b[1;32mreturn\u001b[0m \u001b[0mopen\u001b[0m\u001b[1;33m(\u001b[0m\u001b[0mfile_like\u001b[0m\u001b[1;33m,\u001b[0m \u001b[0mmode\u001b[0m\u001b[1;33m)\u001b[0m\u001b[1;33m,\u001b[0m \u001b[1;32mTrue\u001b[0m\u001b[1;33m\u001b[0m\u001b[1;33m\u001b[0m\u001b[0m\n\u001b[0m\u001b[0;32m     40\u001b[0m     \u001b[1;32mexcept\u001b[0m \u001b[0mIOError\u001b[0m\u001b[1;33m:\u001b[0m\u001b[1;33m\u001b[0m\u001b[1;33m\u001b[0m\u001b[0m\n",
      "\u001b[1;31mFileNotFoundError\u001b[0m: [Errno 2] No such file or directory: 'wine.mat'",
      "\nDuring handling of the above exception, another exception occurred:\n",
      "\u001b[1;31mFileNotFoundError\u001b[0m                         Traceback (most recent call last)",
      "\u001b[1;32m<ipython-input-1-3d2be75455fd>\u001b[0m in \u001b[0;36m<module>\u001b[1;34m\u001b[0m\n\u001b[0;32m      4\u001b[0m \u001b[1;32mimport\u001b[0m \u001b[0mscipy\u001b[0m\u001b[1;33m.\u001b[0m\u001b[0mio\u001b[0m\u001b[1;33m\u001b[0m\u001b[1;33m\u001b[0m\u001b[0m\n\u001b[0;32m      5\u001b[0m \u001b[1;33m\u001b[0m\u001b[0m\n\u001b[1;32m----> 6\u001b[1;33m \u001b[0mS\u001b[0m\u001b[1;33m=\u001b[0m\u001b[0mscipy\u001b[0m\u001b[1;33m.\u001b[0m\u001b[0mio\u001b[0m\u001b[1;33m.\u001b[0m\u001b[0mloadmat\u001b[0m\u001b[1;33m(\u001b[0m\u001b[1;34m'wine.mat'\u001b[0m\u001b[1;33m)\u001b[0m\u001b[1;33m;\u001b[0m\u001b[1;33m\u001b[0m\u001b[1;33m\u001b[0m\u001b[0m\n\u001b[0m",
      "\u001b[1;32m~\\Anaconda3\\lib\\site-packages\\scipy\\io\\matlab\\mio.py\u001b[0m in \u001b[0;36mloadmat\u001b[1;34m(file_name, mdict, appendmat, **kwargs)\u001b[0m\n\u001b[0;32m    214\u001b[0m     \"\"\"\n\u001b[0;32m    215\u001b[0m     \u001b[0mvariable_names\u001b[0m \u001b[1;33m=\u001b[0m \u001b[0mkwargs\u001b[0m\u001b[1;33m.\u001b[0m\u001b[0mpop\u001b[0m\u001b[1;33m(\u001b[0m\u001b[1;34m'variable_names'\u001b[0m\u001b[1;33m,\u001b[0m \u001b[1;32mNone\u001b[0m\u001b[1;33m)\u001b[0m\u001b[1;33m\u001b[0m\u001b[1;33m\u001b[0m\u001b[0m\n\u001b[1;32m--> 216\u001b[1;33m     \u001b[1;32mwith\u001b[0m \u001b[0m_open_file_context\u001b[0m\u001b[1;33m(\u001b[0m\u001b[0mfile_name\u001b[0m\u001b[1;33m,\u001b[0m \u001b[0mappendmat\u001b[0m\u001b[1;33m)\u001b[0m \u001b[1;32mas\u001b[0m \u001b[0mf\u001b[0m\u001b[1;33m:\u001b[0m\u001b[1;33m\u001b[0m\u001b[1;33m\u001b[0m\u001b[0m\n\u001b[0m\u001b[0;32m    217\u001b[0m         \u001b[0mMR\u001b[0m\u001b[1;33m,\u001b[0m \u001b[0m_\u001b[0m \u001b[1;33m=\u001b[0m \u001b[0mmat_reader_factory\u001b[0m\u001b[1;33m(\u001b[0m\u001b[0mf\u001b[0m\u001b[1;33m,\u001b[0m \u001b[1;33m**\u001b[0m\u001b[0mkwargs\u001b[0m\u001b[1;33m)\u001b[0m\u001b[1;33m\u001b[0m\u001b[1;33m\u001b[0m\u001b[0m\n\u001b[0;32m    218\u001b[0m         \u001b[0mmatfile_dict\u001b[0m \u001b[1;33m=\u001b[0m \u001b[0mMR\u001b[0m\u001b[1;33m.\u001b[0m\u001b[0mget_variables\u001b[0m\u001b[1;33m(\u001b[0m\u001b[0mvariable_names\u001b[0m\u001b[1;33m)\u001b[0m\u001b[1;33m\u001b[0m\u001b[1;33m\u001b[0m\u001b[0m\n",
      "\u001b[1;32m~\\Anaconda3\\lib\\contextlib.py\u001b[0m in \u001b[0;36m__enter__\u001b[1;34m(self)\u001b[0m\n\u001b[0;32m    110\u001b[0m         \u001b[1;32mdel\u001b[0m \u001b[0mself\u001b[0m\u001b[1;33m.\u001b[0m\u001b[0margs\u001b[0m\u001b[1;33m,\u001b[0m \u001b[0mself\u001b[0m\u001b[1;33m.\u001b[0m\u001b[0mkwds\u001b[0m\u001b[1;33m,\u001b[0m \u001b[0mself\u001b[0m\u001b[1;33m.\u001b[0m\u001b[0mfunc\u001b[0m\u001b[1;33m\u001b[0m\u001b[1;33m\u001b[0m\u001b[0m\n\u001b[0;32m    111\u001b[0m         \u001b[1;32mtry\u001b[0m\u001b[1;33m:\u001b[0m\u001b[1;33m\u001b[0m\u001b[1;33m\u001b[0m\u001b[0m\n\u001b[1;32m--> 112\u001b[1;33m             \u001b[1;32mreturn\u001b[0m \u001b[0mnext\u001b[0m\u001b[1;33m(\u001b[0m\u001b[0mself\u001b[0m\u001b[1;33m.\u001b[0m\u001b[0mgen\u001b[0m\u001b[1;33m)\u001b[0m\u001b[1;33m\u001b[0m\u001b[1;33m\u001b[0m\u001b[0m\n\u001b[0m\u001b[0;32m    113\u001b[0m         \u001b[1;32mexcept\u001b[0m \u001b[0mStopIteration\u001b[0m\u001b[1;33m:\u001b[0m\u001b[1;33m\u001b[0m\u001b[1;33m\u001b[0m\u001b[0m\n\u001b[0;32m    114\u001b[0m             \u001b[1;32mraise\u001b[0m \u001b[0mRuntimeError\u001b[0m\u001b[1;33m(\u001b[0m\u001b[1;34m\"generator didn't yield\"\u001b[0m\u001b[1;33m)\u001b[0m \u001b[1;32mfrom\u001b[0m \u001b[1;32mNone\u001b[0m\u001b[1;33m\u001b[0m\u001b[1;33m\u001b[0m\u001b[0m\n",
      "\u001b[1;32m~\\Anaconda3\\lib\\site-packages\\scipy\\io\\matlab\\mio.py\u001b[0m in \u001b[0;36m_open_file_context\u001b[1;34m(file_like, appendmat, mode)\u001b[0m\n\u001b[0;32m     17\u001b[0m \u001b[1;33m@\u001b[0m\u001b[0mcontextmanager\u001b[0m\u001b[1;33m\u001b[0m\u001b[1;33m\u001b[0m\u001b[0m\n\u001b[0;32m     18\u001b[0m \u001b[1;32mdef\u001b[0m \u001b[0m_open_file_context\u001b[0m\u001b[1;33m(\u001b[0m\u001b[0mfile_like\u001b[0m\u001b[1;33m,\u001b[0m \u001b[0mappendmat\u001b[0m\u001b[1;33m,\u001b[0m \u001b[0mmode\u001b[0m\u001b[1;33m=\u001b[0m\u001b[1;34m'rb'\u001b[0m\u001b[1;33m)\u001b[0m\u001b[1;33m:\u001b[0m\u001b[1;33m\u001b[0m\u001b[1;33m\u001b[0m\u001b[0m\n\u001b[1;32m---> 19\u001b[1;33m     \u001b[0mf\u001b[0m\u001b[1;33m,\u001b[0m \u001b[0mopened\u001b[0m \u001b[1;33m=\u001b[0m \u001b[0m_open_file\u001b[0m\u001b[1;33m(\u001b[0m\u001b[0mfile_like\u001b[0m\u001b[1;33m,\u001b[0m \u001b[0mappendmat\u001b[0m\u001b[1;33m,\u001b[0m \u001b[0mmode\u001b[0m\u001b[1;33m)\u001b[0m\u001b[1;33m\u001b[0m\u001b[1;33m\u001b[0m\u001b[0m\n\u001b[0m\u001b[0;32m     20\u001b[0m     \u001b[1;32myield\u001b[0m \u001b[0mf\u001b[0m\u001b[1;33m\u001b[0m\u001b[1;33m\u001b[0m\u001b[0m\n\u001b[0;32m     21\u001b[0m     \u001b[1;32mif\u001b[0m \u001b[0mopened\u001b[0m\u001b[1;33m:\u001b[0m\u001b[1;33m\u001b[0m\u001b[1;33m\u001b[0m\u001b[0m\n",
      "\u001b[1;32m~\\Anaconda3\\lib\\site-packages\\scipy\\io\\matlab\\mio.py\u001b[0m in \u001b[0;36m_open_file\u001b[1;34m(file_like, appendmat, mode)\u001b[0m\n\u001b[0;32m     43\u001b[0m             \u001b[1;32mif\u001b[0m \u001b[0mappendmat\u001b[0m \u001b[1;32mand\u001b[0m \u001b[1;32mnot\u001b[0m \u001b[0mfile_like\u001b[0m\u001b[1;33m.\u001b[0m\u001b[0mendswith\u001b[0m\u001b[1;33m(\u001b[0m\u001b[1;34m'.mat'\u001b[0m\u001b[1;33m)\u001b[0m\u001b[1;33m:\u001b[0m\u001b[1;33m\u001b[0m\u001b[1;33m\u001b[0m\u001b[0m\n\u001b[0;32m     44\u001b[0m                 \u001b[0mfile_like\u001b[0m \u001b[1;33m+=\u001b[0m \u001b[1;34m'.mat'\u001b[0m\u001b[1;33m\u001b[0m\u001b[1;33m\u001b[0m\u001b[0m\n\u001b[1;32m---> 45\u001b[1;33m             \u001b[1;32mreturn\u001b[0m \u001b[0mopen\u001b[0m\u001b[1;33m(\u001b[0m\u001b[0mfile_like\u001b[0m\u001b[1;33m,\u001b[0m \u001b[0mmode\u001b[0m\u001b[1;33m)\u001b[0m\u001b[1;33m,\u001b[0m \u001b[1;32mTrue\u001b[0m\u001b[1;33m\u001b[0m\u001b[1;33m\u001b[0m\u001b[0m\n\u001b[0m\u001b[0;32m     46\u001b[0m         \u001b[1;32melse\u001b[0m\u001b[1;33m:\u001b[0m\u001b[1;33m\u001b[0m\u001b[1;33m\u001b[0m\u001b[0m\n\u001b[0;32m     47\u001b[0m             \u001b[1;32mraise\u001b[0m \u001b[0mIOError\u001b[0m\u001b[1;33m(\u001b[0m\u001b[1;34m'Reader needs file name or open file-like object'\u001b[0m\u001b[1;33m)\u001b[0m\u001b[1;33m\u001b[0m\u001b[1;33m\u001b[0m\u001b[0m\n",
      "\u001b[1;31mFileNotFoundError\u001b[0m: [Errno 2] No such file or directory: 'wine.mat'"
     ]
    }
   ],
   "source": [
    "import pandas as pd\n",
    "import numpy as np\n",
    "import matplotlib.pyplot as plt\n",
    "import scipy.io\n",
    "\n",
    "S=scipy.io.loadmat('wine.mat');"
   ]
  },
  {
   "cell_type": "code",
   "execution_count": null,
   "metadata": {
    "id": "cbJWV-OTtyzY"
   },
   "outputs": [],
   "source": [
    "header_list = ['Alcohol','Malic_acid', 'Ash', 'Alcalinity_of_ash', 'Magnesium', 'Total_phenols', 'Flavanoids', 'Nonflavanoid_phenols', \n",
    "               'Proanthocyanins', 'Color_intensity', 'Hue', 'OD280/OD315_of_diluted_wines', 'Proline', 'Label']\n",
    "df = pd.DataFrame(np.hstack((S['X'], S['y'])), columns=header_list)\n"
   ]
  },
  {
   "cell_type": "code",
   "execution_count": null,
   "metadata": {
    "colab": {
     "base_uri": "https://localhost:8080/",
     "height": 215
    },
    "executionInfo": {
     "elapsed": 667,
     "status": "ok",
     "timestamp": 1607756375893,
     "user": {
      "displayName": "Veronika Sotskova",
      "photoUrl": "https://lh3.googleusercontent.com/a-/AOh14GhLNN43JKAW1NCIumyulALF7c7-9n3XWD50sXnK=s64",
      "userId": "13222701999781590371"
     },
     "user_tz": -180
    },
    "id": "KBfFx8SCtzM1",
    "outputId": "ce3126ad-ab21-4b9b-ad52-4791c0ea90b8"
   },
   "outputs": [
    {
     "data": {
      "text/html": [
       "<div>\n",
       "<style scoped>\n",
       "    .dataframe tbody tr th:only-of-type {\n",
       "        vertical-align: middle;\n",
       "    }\n",
       "\n",
       "    .dataframe tbody tr th {\n",
       "        vertical-align: top;\n",
       "    }\n",
       "\n",
       "    .dataframe thead th {\n",
       "        text-align: right;\n",
       "    }\n",
       "</style>\n",
       "<table border=\"1\" class=\"dataframe\">\n",
       "  <thead>\n",
       "    <tr style=\"text-align: right;\">\n",
       "      <th></th>\n",
       "      <th>Alcohol</th>\n",
       "      <th>Malic_acid</th>\n",
       "      <th>Ash</th>\n",
       "      <th>Alcalinity_of_ash</th>\n",
       "      <th>Magnesium</th>\n",
       "      <th>Total_phenols</th>\n",
       "      <th>Flavanoids</th>\n",
       "      <th>Nonflavanoid_phenols</th>\n",
       "      <th>Proanthocyanins</th>\n",
       "      <th>Color_intensity</th>\n",
       "      <th>Hue</th>\n",
       "      <th>OD280/OD315_of_diluted_wines</th>\n",
       "      <th>Proline</th>\n",
       "      <th>Label</th>\n",
       "    </tr>\n",
       "  </thead>\n",
       "  <tbody>\n",
       "    <tr>\n",
       "      <th>0</th>\n",
       "      <td>13.29</td>\n",
       "      <td>1.97</td>\n",
       "      <td>2.68</td>\n",
       "      <td>16.8</td>\n",
       "      <td>102.0</td>\n",
       "      <td>3.00</td>\n",
       "      <td>3.23</td>\n",
       "      <td>0.31</td>\n",
       "      <td>1.66</td>\n",
       "      <td>6.00</td>\n",
       "      <td>1.07</td>\n",
       "      <td>2.84</td>\n",
       "      <td>1270.0</td>\n",
       "      <td>1.0</td>\n",
       "    </tr>\n",
       "    <tr>\n",
       "      <th>1</th>\n",
       "      <td>14.30</td>\n",
       "      <td>1.92</td>\n",
       "      <td>2.72</td>\n",
       "      <td>20.0</td>\n",
       "      <td>120.0</td>\n",
       "      <td>2.80</td>\n",
       "      <td>3.14</td>\n",
       "      <td>0.33</td>\n",
       "      <td>1.97</td>\n",
       "      <td>6.20</td>\n",
       "      <td>1.07</td>\n",
       "      <td>2.65</td>\n",
       "      <td>1280.0</td>\n",
       "      <td>1.0</td>\n",
       "    </tr>\n",
       "    <tr>\n",
       "      <th>2</th>\n",
       "      <td>13.68</td>\n",
       "      <td>1.83</td>\n",
       "      <td>2.36</td>\n",
       "      <td>17.2</td>\n",
       "      <td>104.0</td>\n",
       "      <td>2.42</td>\n",
       "      <td>2.69</td>\n",
       "      <td>0.42</td>\n",
       "      <td>1.97</td>\n",
       "      <td>3.84</td>\n",
       "      <td>1.23</td>\n",
       "      <td>2.87</td>\n",
       "      <td>990.0</td>\n",
       "      <td>1.0</td>\n",
       "    </tr>\n",
       "    <tr>\n",
       "      <th>3</th>\n",
       "      <td>14.06</td>\n",
       "      <td>2.15</td>\n",
       "      <td>2.61</td>\n",
       "      <td>17.6</td>\n",
       "      <td>121.0</td>\n",
       "      <td>2.60</td>\n",
       "      <td>2.51</td>\n",
       "      <td>0.31</td>\n",
       "      <td>1.25</td>\n",
       "      <td>5.05</td>\n",
       "      <td>1.06</td>\n",
       "      <td>3.58</td>\n",
       "      <td>1295.0</td>\n",
       "      <td>1.0</td>\n",
       "    </tr>\n",
       "    <tr>\n",
       "      <th>4</th>\n",
       "      <td>14.22</td>\n",
       "      <td>1.70</td>\n",
       "      <td>2.30</td>\n",
       "      <td>16.3</td>\n",
       "      <td>118.0</td>\n",
       "      <td>3.20</td>\n",
       "      <td>3.00</td>\n",
       "      <td>0.26</td>\n",
       "      <td>2.03</td>\n",
       "      <td>6.38</td>\n",
       "      <td>0.94</td>\n",
       "      <td>3.31</td>\n",
       "      <td>970.0</td>\n",
       "      <td>1.0</td>\n",
       "    </tr>\n",
       "  </tbody>\n",
       "</table>\n",
       "</div>"
      ],
      "text/plain": [
       "   Alcohol  Malic_acid   Ash  ...  OD280/OD315_of_diluted_wines  Proline  Label\n",
       "0    13.29        1.97  2.68  ...                          2.84   1270.0    1.0\n",
       "1    14.30        1.92  2.72  ...                          2.65   1280.0    1.0\n",
       "2    13.68        1.83  2.36  ...                          2.87    990.0    1.0\n",
       "3    14.06        2.15  2.61  ...                          3.58   1295.0    1.0\n",
       "4    14.22        1.70  2.30  ...                          3.31    970.0    1.0\n",
       "\n",
       "[5 rows x 14 columns]"
      ]
     },
     "execution_count": 16,
     "metadata": {
      "tags": []
     },
     "output_type": "execute_result"
    }
   ],
   "source": [
    "df.head()"
   ]
  },
  {
   "cell_type": "code",
   "execution_count": null,
   "metadata": {
    "colab": {
     "base_uri": "https://localhost:8080/",
     "height": 866
    },
    "executionInfo": {
     "elapsed": 2368,
     "status": "ok",
     "timestamp": 1607758237070,
     "user": {
      "displayName": "Veronika Sotskova",
      "photoUrl": "https://lh3.googleusercontent.com/a-/AOh14GhLNN43JKAW1NCIumyulALF7c7-9n3XWD50sXnK=s64",
      "userId": "13222701999781590371"
     },
     "user_tz": -180
    },
    "id": "It4KPB2gvo75",
    "outputId": "044d2c20-d5ca-42b7-c8d0-42c404630c9b"
   },
   "outputs": [
    {
     "data": {
      "image/png": "[encoded data removed]",
      "text/plain": [
       "<Figure size 720x1080 with 15 Axes>"
      ]
     },
     "metadata": {
      "needs_background": "light",
      "tags": []
     },
     "output_type": "display_data"
    }
   ],
   "source": [
    "\n",
    "fig, axes = plt.subplots(nrows=5, ncols=3, figsize=(10,15))\n",
    "\n",
    "for i in range(13):\n",
    "  df.boxplot(column=df.columns[i], ax=axes[i//3,i%3])\n",
    "plt.show()"
   ]
  },
  {
   "cell_type": "markdown",
   "metadata": {
    "id": "puEuhy_x64mW"
   },
   "source": [
    "По графикам видно, что выбросы наиболее видны в переменных ```Proline```, ```Magnesium```, ```Proanthocyanins```, ```Ash```"
   ]
  },
  {
   "cell_type": "code",
   "execution_count": null,
   "metadata": {
    "colab": {
     "base_uri": "https://localhost:8080/",
     "height": 304
    },
    "executionInfo": {
     "elapsed": 810,
     "status": "ok",
     "timestamp": 1607756792704,
     "user": {
      "displayName": "Veronika Sotskova",
      "photoUrl": "https://lh3.googleusercontent.com/a-/AOh14GhLNN43JKAW1NCIumyulALF7c7-9n3XWD50sXnK=s64",
      "userId": "13222701999781590371"
     },
     "user_tz": -180
    },
    "id": "WwUA42BowT8r",
    "outputId": "4dd095f5-e88b-4a2b-8e8d-2103d83eb0fe"
   },
   "outputs": [
    {
     "data": {
      "text/html": [
       "<div>\n",
       "<style scoped>\n",
       "    .dataframe tbody tr th:only-of-type {\n",
       "        vertical-align: middle;\n",
       "    }\n",
       "\n",
       "    .dataframe tbody tr th {\n",
       "        vertical-align: top;\n",
       "    }\n",
       "\n",
       "    .dataframe thead th {\n",
       "        text-align: right;\n",
       "    }\n",
       "</style>\n",
       "<table border=\"1\" class=\"dataframe\">\n",
       "  <thead>\n",
       "    <tr style=\"text-align: right;\">\n",
       "      <th></th>\n",
       "      <th>Alcohol</th>\n",
       "      <th>Malic_acid</th>\n",
       "      <th>Ash</th>\n",
       "      <th>Alcalinity_of_ash</th>\n",
       "      <th>Magnesium</th>\n",
       "      <th>Total_phenols</th>\n",
       "      <th>Flavanoids</th>\n",
       "      <th>Nonflavanoid_phenols</th>\n",
       "      <th>Proanthocyanins</th>\n",
       "      <th>Color_intensity</th>\n",
       "      <th>Hue</th>\n",
       "      <th>OD280/OD315_of_diluted_wines</th>\n",
       "      <th>Proline</th>\n",
       "      <th>Label</th>\n",
       "    </tr>\n",
       "  </thead>\n",
       "  <tbody>\n",
       "    <tr>\n",
       "      <th>count</th>\n",
       "      <td>129.000000</td>\n",
       "      <td>129.000000</td>\n",
       "      <td>129.000000</td>\n",
       "      <td>129.000000</td>\n",
       "      <td>129.000000</td>\n",
       "      <td>129.000000</td>\n",
       "      <td>129.000000</td>\n",
       "      <td>129.000000</td>\n",
       "      <td>129.000000</td>\n",
       "      <td>129.000000</td>\n",
       "      <td>129.000000</td>\n",
       "      <td>129.000000</td>\n",
       "      <td>129.000000</td>\n",
       "      <td>129.000000</td>\n",
       "    </tr>\n",
       "    <tr>\n",
       "      <th>mean</th>\n",
       "      <td>12.726357</td>\n",
       "      <td>2.445659</td>\n",
       "      <td>2.336279</td>\n",
       "      <td>20.448837</td>\n",
       "      <td>97.449612</td>\n",
       "      <td>2.088605</td>\n",
       "      <td>1.662791</td>\n",
       "      <td>0.391395</td>\n",
       "      <td>1.467597</td>\n",
       "      <td>4.902015</td>\n",
       "      <td>0.918729</td>\n",
       "      <td>2.390775</td>\n",
       "      <td>612.093023</td>\n",
       "      <td>0.077519</td>\n",
       "    </tr>\n",
       "    <tr>\n",
       "      <th>std</th>\n",
       "      <td>0.743290</td>\n",
       "      <td>1.214085</td>\n",
       "      <td>0.281999</td>\n",
       "      <td>3.048978</td>\n",
       "      <td>14.812875</td>\n",
       "      <td>0.582708</td>\n",
       "      <td>0.907591</td>\n",
       "      <td>0.127725</td>\n",
       "      <td>0.572998</td>\n",
       "      <td>2.595929</td>\n",
       "      <td>0.247050</td>\n",
       "      <td>0.687786</td>\n",
       "      <td>225.483039</td>\n",
       "      <td>0.268456</td>\n",
       "    </tr>\n",
       "    <tr>\n",
       "      <th>min</th>\n",
       "      <td>11.030000</td>\n",
       "      <td>0.740000</td>\n",
       "      <td>1.360000</td>\n",
       "      <td>10.600000</td>\n",
       "      <td>70.000000</td>\n",
       "      <td>0.980000</td>\n",
       "      <td>0.340000</td>\n",
       "      <td>0.130000</td>\n",
       "      <td>0.410000</td>\n",
       "      <td>1.280000</td>\n",
       "      <td>0.480000</td>\n",
       "      <td>1.270000</td>\n",
       "      <td>278.000000</td>\n",
       "      <td>0.000000</td>\n",
       "    </tr>\n",
       "    <tr>\n",
       "      <th>25%</th>\n",
       "      <td>12.210000</td>\n",
       "      <td>1.510000</td>\n",
       "      <td>2.200000</td>\n",
       "      <td>18.500000</td>\n",
       "      <td>87.000000</td>\n",
       "      <td>1.630000</td>\n",
       "      <td>0.800000</td>\n",
       "      <td>0.290000</td>\n",
       "      <td>1.040000</td>\n",
       "      <td>2.850000</td>\n",
       "      <td>0.720000</td>\n",
       "      <td>1.750000</td>\n",
       "      <td>465.000000</td>\n",
       "      <td>0.000000</td>\n",
       "    </tr>\n",
       "    <tr>\n",
       "      <th>50%</th>\n",
       "      <td>12.640000</td>\n",
       "      <td>2.060000</td>\n",
       "      <td>2.320000</td>\n",
       "      <td>20.000000</td>\n",
       "      <td>95.000000</td>\n",
       "      <td>2.000000</td>\n",
       "      <td>1.590000</td>\n",
       "      <td>0.400000</td>\n",
       "      <td>1.420000</td>\n",
       "      <td>4.000000</td>\n",
       "      <td>0.920000</td>\n",
       "      <td>2.440000</td>\n",
       "      <td>564.000000</td>\n",
       "      <td>0.000000</td>\n",
       "    </tr>\n",
       "    <tr>\n",
       "      <th>75%</th>\n",
       "      <td>13.290000</td>\n",
       "      <td>3.270000</td>\n",
       "      <td>2.530000</td>\n",
       "      <td>22.000000</td>\n",
       "      <td>104.000000</td>\n",
       "      <td>2.500000</td>\n",
       "      <td>2.260000</td>\n",
       "      <td>0.480000</td>\n",
       "      <td>1.770000</td>\n",
       "      <td>6.300000</td>\n",
       "      <td>1.070000</td>\n",
       "      <td>2.960000</td>\n",
       "      <td>685.000000</td>\n",
       "      <td>0.000000</td>\n",
       "    </tr>\n",
       "    <tr>\n",
       "      <th>max</th>\n",
       "      <td>14.340000</td>\n",
       "      <td>5.800000</td>\n",
       "      <td>3.230000</td>\n",
       "      <td>30.000000</td>\n",
       "      <td>162.000000</td>\n",
       "      <td>3.520000</td>\n",
       "      <td>5.080000</td>\n",
       "      <td>0.660000</td>\n",
       "      <td>3.580000</td>\n",
       "      <td>13.000000</td>\n",
       "      <td>1.710000</td>\n",
       "      <td>3.690000</td>\n",
       "      <td>1450.000000</td>\n",
       "      <td>1.000000</td>\n",
       "    </tr>\n",
       "  </tbody>\n",
       "</table>\n",
       "</div>"
      ],
      "text/plain": [
       "          Alcohol  Malic_acid  ...      Proline       Label\n",
       "count  129.000000  129.000000  ...   129.000000  129.000000\n",
       "mean    12.726357    2.445659  ...   612.093023    0.077519\n",
       "std      0.743290    1.214085  ...   225.483039    0.268456\n",
       "min     11.030000    0.740000  ...   278.000000    0.000000\n",
       "25%     12.210000    1.510000  ...   465.000000    0.000000\n",
       "50%     12.640000    2.060000  ...   564.000000    0.000000\n",
       "75%     13.290000    3.270000  ...   685.000000    0.000000\n",
       "max     14.340000    5.800000  ...  1450.000000    1.000000\n",
       "\n",
       "[8 rows x 14 columns]"
      ]
     },
     "execution_count": 23,
     "metadata": {
      "tags": []
     },
     "output_type": "execute_result"
    }
   ],
   "source": [
    "df.describe()"
   ]
  },
  {
   "cell_type": "code",
   "execution_count": null,
   "metadata": {
    "colab": {
     "base_uri": "https://localhost:8080/",
     "height": 607
    },
    "executionInfo": {
     "elapsed": 2397,
     "status": "ok",
     "timestamp": 1607758640093,
     "user": {
      "displayName": "Veronika Sotskova",
      "photoUrl": "https://lh3.googleusercontent.com/a-/AOh14GhLNN43JKAW1NCIumyulALF7c7-9n3XWD50sXnK=s64",
      "userId": "13222701999781590371"
     },
     "user_tz": -180
    },
    "id": "K_KUmDd6xcAc",
    "outputId": "f870891c-1267-4e01-e924-c824c972b32b"
   },
   "outputs": [
    {
     "data": {
      "image/png": "[encoded data removed]",
      "text/plain": [
       "<Figure size 1080x720 with 16 Axes>"
      ]
     },
     "metadata": {
      "needs_background": "light",
      "tags": []
     },
     "output_type": "display_data"
    }
   ],
   "source": [
    "df.hist(column=df.columns[:13],figsize=(15,100))\n",
    "plt.show()"
   ]
  },
  {
   "cell_type": "code",
   "execution_count": null,
   "metadata": {
    "id": "wXOvhiRs3a-L"
   },
   "outputs": [],
   "source": [
    "x_raw = df.iloc[:,:13].values\n",
    "y = df['Label'].values"
   ]
  },
  {
   "cell_type": "code",
   "execution_count": null,
   "metadata": {
    "id": "aDJrVUal5NiI"
   },
   "outputs": [],
   "source": [
    "from scipy.cluster.vq import vq, kmeans, whiten\n",
    "\n",
    "# Передача данных и количества кластеров в kmeans () \n",
    "codebook, distortion = kmeans(x_raw, 4)"
   ]
  },
  {
   "cell_type": "code",
   "execution_count": null,
   "metadata": {
    "id": "Lz85fL1b5hJP"
   },
   "outputs": [],
   "source": [
    "from scipy.cluster.vq import vq\n",
    "groups, cdist = vq(x_raw, codebook)"
   ]
  },
  {
   "cell_type": "code",
   "execution_count": null,
   "metadata": {
    "colab": {
     "base_uri": "https://localhost:8080/",
     "height": 497
    },
    "executionInfo": {
     "elapsed": 1006,
     "status": "ok",
     "timestamp": 1607760236751,
     "user": {
      "displayName": "Veronika Sotskova",
      "photoUrl": "https://lh3.googleusercontent.com/a-/AOh14GhLNN43JKAW1NCIumyulALF7c7-9n3XWD50sXnK=s64",
      "userId": "13222701999781590371"
     },
     "user_tz": -180
    },
    "id": "Et1MFEkP5jmg",
    "outputId": "9b9a9b43-5ae4-4e35-b0fb-dbbde346c5d4"
   },
   "outputs": [
    {
     "data": {
      "image/png": "[encoded data removed]",
      "text/plain": [
       "<Figure size 720x576 with 1 Axes>"
      ]
     },
     "metadata": {
      "needs_background": "light",
      "tags": []
     },
     "output_type": "display_data"
    }
   ],
   "source": [
    "plt.figure(figsize=(10, 8))\n",
    "plt.scatter(df['Proline'], df['Magnesium'], c=groups)\n",
    "plt.xlabel('Proline')\n",
    "plt.ylabel('Magnesium')\n",
    "plt.show()"
   ]
  },
  {
   "cell_type": "code",
   "execution_count": null,
   "metadata": {
    "colab": {
     "base_uri": "https://localhost:8080/"
    },
    "executionInfo": {
     "elapsed": 8943,
     "status": "ok",
     "timestamp": 1607759264389,
     "user": {
      "displayName": "Veronika Sotskova",
      "photoUrl": "https://lh3.googleusercontent.com/a-/AOh14GhLNN43JKAW1NCIumyulALF7c7-9n3XWD50sXnK=s64",
      "userId": "13222701999781590371"
     },
     "user_tz": -180
    },
    "id": "-fKU6qHD57gM",
    "outputId": "d9a42d21-7e32-429a-ac61-2078c59b56ee"
   },
   "outputs": [
    {
     "name": "stdout",
     "output_type": "stream",
     "text": [
      "Collecting pyod\n",
      "\u001b[?25l  Downloading https://files.pythonhosted.org/packages/2b/1d/22a6c4e796fff1066bf80bf59b4494d6e3582e22012a61721f4cb730b3c3/pyod-0.8.4.tar.gz (98kB)\n",
      "\r",
      "\u001b[K     |███▎                            | 10kB 16.2MB/s eta 0:00:01\r",
      "\u001b[K     |██████▋                         | 20kB 17.5MB/s eta 0:00:01\r",
      "\u001b[K     |██████████                      | 30kB 12.1MB/s eta 0:00:01\r",
      "\u001b[K     |█████████████▎                  | 40kB 10.6MB/s eta 0:00:01\r",
      "\u001b[K     |████████████████▋               | 51kB 5.5MB/s eta 0:00:01\r",
      "\u001b[K     |████████████████████            | 61kB 5.9MB/s eta 0:00:01\r",
      "\u001b[K     |███████████████████████▎        | 71kB 5.9MB/s eta 0:00:01\r",
      "\u001b[K     |██████████████████████████▋     | 81kB 6.5MB/s eta 0:00:01\r",
      "\u001b[K     |██████████████████████████████  | 92kB 6.7MB/s eta 0:00:01\r",
      "\u001b[K     |████████████████████████████████| 102kB 4.0MB/s \n",
      "\u001b[?25hCollecting combo\n",
      "  Downloading https://files.pythonhosted.org/packages/0a/2a/61b6ac584e75d8df16dc27962aa5fe99d76b09da5b6710e83d4862c84001/combo-0.1.1.tar.gz\n",
      "Requirement already satisfied: joblib in /usr/local/lib/python3.6/dist-packages (from pyod) (0.17.0)\n",
      "Requirement already satisfied: matplotlib in /usr/local/lib/python3.6/dist-packages (from pyod) (3.2.2)\n",
      "Requirement already satisfied: numpy>=1.13 in /usr/local/lib/python3.6/dist-packages (from pyod) (1.18.5)\n",
      "Requirement already satisfied: numba>=0.35 in /usr/local/lib/python3.6/dist-packages (from pyod) (0.48.0)\n",
      "Requirement already satisfied: pandas>=0.25 in /usr/local/lib/python3.6/dist-packages (from pyod) (1.1.5)\n",
      "Requirement already satisfied: scipy>=0.19.1 in /usr/local/lib/python3.6/dist-packages (from pyod) (1.4.1)\n",
      "Requirement already satisfied: scikit_learn>=0.19.1 in /usr/local/lib/python3.6/dist-packages (from pyod) (0.22.2.post1)\n",
      "Requirement already satisfied: six in /usr/local/lib/python3.6/dist-packages (from pyod) (1.15.0)\n",
      "Requirement already satisfied: statsmodels in /usr/local/lib/python3.6/dist-packages (from pyod) (0.10.2)\n",
      "Collecting suod\n",
      "\u001b[?25l  Downloading https://files.pythonhosted.org/packages/a1/87/9170cabe1b5e10a7d095c0e28f2e30e7c1886a13f063de85d3cfacc06f4b/suod-0.0.4.tar.gz (2.1MB)\n",
      "\u001b[K     |████████████████████████████████| 2.1MB 34.2MB/s \n",
      "\u001b[?25hRequirement already satisfied: python-dateutil>=2.1 in /usr/local/lib/python3.6/dist-packages (from matplotlib->pyod) (2.8.1)\n",
      "Requirement already satisfied: kiwisolver>=1.0.1 in /usr/local/lib/python3.6/dist-packages (from matplotlib->pyod) (1.3.1)\n",
      "Requirement already satisfied: cycler>=0.10 in /usr/local/lib/python3.6/dist-packages (from matplotlib->pyod) (0.10.0)\n",
      "Requirement already satisfied: pyparsing!=2.0.4,!=2.1.2,!=2.1.6,>=2.0.1 in /usr/local/lib/python3.6/dist-packages (from matplotlib->pyod) (2.4.7)\n",
      "Requirement already satisfied: setuptools in /usr/local/lib/python3.6/dist-packages (from numba>=0.35->pyod) (50.3.2)\n",
      "Requirement already satisfied: llvmlite<0.32.0,>=0.31.0dev0 in /usr/local/lib/python3.6/dist-packages (from numba>=0.35->pyod) (0.31.0)\n",
      "Requirement already satisfied: pytz>=2017.2 in /usr/local/lib/python3.6/dist-packages (from pandas>=0.25->pyod) (2018.9)\n",
      "Requirement already satisfied: patsy>=0.4.0 in /usr/local/lib/python3.6/dist-packages (from statsmodels->pyod) (0.5.1)\n",
      "Building wheels for collected packages: pyod, combo, suod\n",
      "  Building wheel for pyod (setup.py) ... \u001b[?25l\u001b[?25hdone\n",
      "  Created wheel for pyod: filename=pyod-0.8.4-cp36-none-any.whl size=112082 sha256=01582cada8bfaf2a87f4243047ea1ceb304ac762f6f5405a4bfca9359f791796\n",
      "  Stored in directory: /root/.cache/pip/wheels/ad/31/0a/c2d4ba2d066145c55f0cb2846e59b18d874cb59c5d9adc81cf\n",
      "  Building wheel for combo (setup.py) ... \u001b[?25l\u001b[?25hdone\n",
      "  Created wheel for combo: filename=combo-0.1.1-cp36-none-any.whl size=42113 sha256=4f296d71bb2a56ab340b82d54605160e56bbaa550928fbd4fdf95f2280c960c3\n",
      "  Stored in directory: /root/.cache/pip/wheels/55/ec/e5/a2331372c676c467e70c6646e646edf6997d5c4905b8c0f5e6\n",
      "  Building wheel for suod (setup.py) ... \u001b[?25l\u001b[?25hdone\n",
      "  Created wheel for suod: filename=suod-0.0.4-cp36-none-any.whl size=2167157 sha256=f16ee1772f5017e7a2ee514bd51cc39405a57eaca2c6f06a0c832343d8cdf5c2\n",
      "  Stored in directory: /root/.cache/pip/wheels/57/55/e5/a4fca65bba231f6d0115059b589148774b41faea25b3f2aa27\n",
      "Successfully built pyod combo suod\n",
      "Installing collected packages: combo, suod, pyod\n",
      "Successfully installed combo-0.1.1 pyod-0.8.4 suod-0.0.4\n"
     ]
    }
   ],
   "source": [
    "!pip install pyod"
   ]
  },
  {
   "cell_type": "markdown",
   "metadata": {
    "id": "ygRuef9F7wio"
   },
   "source": [
    "contamination - количество аномалий в данных (в процентах), которое для нашего случая составляет 10/129=0.078\n",
    "\n",
    "n_neighbors - количество соседей, которые нужно учитывать для измерения близости"
   ]
  },
  {
   "cell_type": "code",
   "execution_count": null,
   "metadata": {
    "colab": {
     "base_uri": "https://localhost:8080/"
    },
    "executionInfo": {
     "elapsed": 688,
     "status": "ok",
     "timestamp": 1607760307416,
     "user": {
      "displayName": "Veronika Sotskova",
      "photoUrl": "https://lh3.googleusercontent.com/a-/AOh14GhLNN43JKAW1NCIumyulALF7c7-9n3XWD50sXnK=s64",
      "userId": "13222701999781590371"
     },
     "user_tz": -180
    },
    "id": "Qqfl9jTa7ew4",
    "outputId": "f1d257fb-6f46-4ca9-a8cc-f94234e21142"
   },
   "outputs": [
    {
     "data": {
      "text/plain": [
       "KNN(algorithm='auto', contamination=0.078, leaf_size=30, method='largest',\n",
       "  metric='minkowski', metric_params=None, n_jobs=1, n_neighbors=6, p=2,\n",
       "  radius=1.0)"
      ]
     },
     "execution_count": 129,
     "metadata": {
      "tags": []
     },
     "output_type": "execute_result"
    }
   ],
   "source": [
    "from pyod.models.knn import KNN\n",
    "clf = KNN(contamination=0.078, n_neighbors=6)\n",
    "clf.fit(x_raw)"
   ]
  },
  {
   "cell_type": "code",
   "execution_count": null,
   "metadata": {
    "colab": {
     "base_uri": "https://localhost:8080/"
    },
    "executionInfo": {
     "elapsed": 649,
     "status": "ok",
     "timestamp": 1607760355824,
     "user": {
      "displayName": "Veronika Sotskova",
      "photoUrl": "https://lh3.googleusercontent.com/a-/AOh14GhLNN43JKAW1NCIumyulALF7c7-9n3XWD50sXnK=s64",
      "userId": "13222701999781590371"
     },
     "user_tz": -180
    },
    "id": "2gx2QXhK8LM2",
    "outputId": "c06caaa8-b4aa-415e-ce4e-8a23498487b3"
   },
   "outputs": [
    {
     "data": {
      "text/plain": [
       "(array([1, 1, 1, 1, 0, 1, 1, 1, 1, 1, 0, 0, 0, 0, 0, 0, 0, 0, 0, 0, 0, 0,\n",
       "        0, 0, 1, 0, 0, 0, 0, 0, 0, 0, 0, 0, 0, 0, 0, 0, 0, 0, 0, 0, 0, 0,\n",
       "        0, 0, 0, 0, 0, 0, 0, 0, 0, 0, 0, 0, 0, 0, 0, 0, 0, 0, 0, 0, 0, 0,\n",
       "        0, 0, 0, 0, 0, 0, 0, 0, 0, 0, 0, 0, 0, 0, 0, 0, 0, 0, 0, 0, 0, 0,\n",
       "        0, 0, 0, 0, 0, 0, 0, 0, 0, 0, 0, 0, 0, 0, 0, 0, 0, 0, 0, 0, 0, 0,\n",
       "        0, 0, 0, 0, 0, 0, 0, 0, 0, 0, 0, 0, 0, 0, 0, 0, 0, 0, 0]),\n",
       " array([1, 1, 1, 1, 1, 1, 1, 1, 1, 1, 0, 0, 0, 0, 0, 0, 0, 0, 0, 0, 0, 0,\n",
       "        0, 0, 0, 0, 0, 0, 0, 0, 0, 0, 0, 0, 0, 0, 0, 0, 0, 0, 0, 0, 0, 0,\n",
       "        0, 0, 0, 0, 0, 0, 0, 0, 0, 0, 0, 0, 0, 0, 0, 0, 0, 0, 0, 0, 0, 0,\n",
       "        0, 0, 0, 0, 0, 0, 0, 0, 0, 0, 0, 0, 0, 0, 0, 0, 0, 0, 0, 0, 0, 0,\n",
       "        0, 0, 0, 0, 0, 0, 0, 0, 0, 0, 0, 0, 0, 0, 0, 0, 0, 0, 0, 0, 0, 0,\n",
       "        0, 0, 0, 0, 0, 0, 0, 0, 0, 0, 0, 0, 0, 0, 0, 0, 0, 0, 0]))"
      ]
     },
     "execution_count": 133,
     "metadata": {
      "tags": []
     },
     "output_type": "execute_result"
    }
   ],
   "source": [
    "y_train_pred = clf.labels_ \n",
    "y_train_pred, y.astype('int64')"
   ]
  },
  {
   "cell_type": "code",
   "execution_count": null,
   "metadata": {
    "colab": {
     "base_uri": "https://localhost:8080/"
    },
    "executionInfo": {
     "elapsed": 519,
     "status": "ok",
     "timestamp": 1607760307901,
     "user": {
      "displayName": "Veronika Sotskova",
      "photoUrl": "https://lh3.googleusercontent.com/a-/AOh14GhLNN43JKAW1NCIumyulALF7c7-9n3XWD50sXnK=s64",
      "userId": "13222701999781590371"
     },
     "user_tz": -180
    },
    "id": "01yvhNIi8LaX",
    "outputId": "0dae0c02-d286-4182-a588-a7b561c822a6"
   },
   "outputs": [
    {
     "data": {
      "text/plain": [
       "array([210.01538563, 220.65996805, 104.13876464, 235.69892172,\n",
       "        91.28019884, 136.48173651, 125.68308916, 165.06599317,\n",
       "       390.12179226, 315.2343763 ,  15.9148704 ,  16.17612747,\n",
       "        21.65805162,  17.26366126,  13.78438247,  29.66004046,\n",
       "        13.94745138,  17.00920045,  15.37899542,  36.89066955,\n",
       "        58.40996148,  40.09224284,  20.24057064,  16.95133918,\n",
       "       106.43503934,  56.15840632,  21.80777384,  16.40839115,\n",
       "        25.73579608,  50.68055544,  19.55066239,  68.09102364,\n",
       "        29.91978944,  20.87770581,  11.92411003,  11.12997754,\n",
       "        20.46050342,  17.05155418,  19.67135989,  18.01432763,\n",
       "        26.36368904,  16.03602195,  20.15124314,  15.22631604,\n",
       "        55.93053549,  22.62574198,  89.32950865,  38.12423901,\n",
       "        17.2129399 ,  19.50465073,  14.79912497,  27.67357946,\n",
       "        18.53550377,  17.2129399 ,  13.57673378,  15.53247566,\n",
       "        35.01440561,  15.16381878,  16.39653317,  34.53971482,\n",
       "        12.21564571,  19.74034194,  28.34586037,  21.03793716,\n",
       "        19.23502015,  22.02234547,  16.40839115,  16.33856481,\n",
       "        28.34586037,  21.83137879,  16.82586402,  18.68937131,\n",
       "        33.42122828,  22.57198263,  22.57198263,  25.67555647,\n",
       "        22.24621766,  23.22501884,  20.46050342,  27.15299799,\n",
       "        25.81532103,  29.99906832,  21.52016264,  13.04578476,\n",
       "        27.25036147,  22.09938687,  18.02458599,  32.97890538,\n",
       "        11.4786149 ,  20.76146189,  23.55274719,  22.54228028,\n",
       "        55.31050714,  12.80732212,  19.74034194,  33.59547589,\n",
       "        51.71794563,  15.50834614,  17.61428114,  21.08159624,\n",
       "        22.36747192,  34.04706302,  26.51820318,  31.55631474,\n",
       "        14.22355792,  21.86879512,  27.98562845,  17.33342724,\n",
       "        51.11650321,  20.03844056,  21.03793716,  12.28812435,\n",
       "        16.55178238,  20.70137194,  20.03844056,  17.19380702,\n",
       "        13.37696528,  23.04141923,  15.53247566,  34.45543498,\n",
       "        25.61914714,  13.48446143,  19.60191284,  16.70185918,\n",
       "        28.22901167,  32.97890538,  55.06237736,  50.26489729,\n",
       "        14.45486769])"
      ]
     },
     "execution_count": 131,
     "metadata": {
      "tags": []
     },
     "output_type": "execute_result"
    }
   ],
   "source": [
    "# Выбросы\n",
    "y_train_scores = clf.decision_scores_ \n",
    "y_train_scores"
   ]
  },
  {
   "cell_type": "code",
   "execution_count": null,
   "metadata": {
    "colab": {
     "base_uri": "https://localhost:8080/"
    },
    "executionInfo": {
     "elapsed": 443,
     "status": "ok",
     "timestamp": 1607760308250,
     "user": {
      "displayName": "Veronika Sotskova",
      "photoUrl": "https://lh3.googleusercontent.com/a-/AOh14GhLNN43JKAW1NCIumyulALF7c7-9n3XWD50sXnK=s64",
      "userId": "13222701999781590371"
     },
     "user_tz": -180
    },
    "id": "7gs_booQ8PEA",
    "outputId": "75dc0496-9684-4939-c9e8-99ebba699dba"
   },
   "outputs": [
    {
     "name": "stdout",
     "output_type": "stream",
     "text": [
      "KNN ROC:0.9983, precision @ rank n:0.9\n"
     ]
    }
   ],
   "source": [
    "from pyod.utils import evaluate_print\n",
    "\n",
    "# Evaluate on the training data\n",
    "evaluate_print('KNN', y, y_train_scores)"
   ]
  },
  {
   "cell_type": "markdown",
   "metadata": {
    "id": "hAcbgDec8ogw"
   },
   "source": [
    "Мы видим, что KNN() модель показала исключительно хорошие результаты на обучающих данных.\n",
    "\n",
    "Он предоставляет три показателя и их оценки -\n",
    "\n",
    "ROC Точность Рейтинг уверенности, с которым он дает оценки выбросов."
   ]
  },
  {
   "cell_type": "markdown",
   "metadata": {
    "id": "W8aCm_6DC8QX"
   },
   "source": [
    "**Изолирующее дерево**"
   ]
  },
  {
   "cell_type": "code",
   "execution_count": null,
   "metadata": {
    "colab": {
     "base_uri": "https://localhost:8080/"
    },
    "executionInfo": {
     "elapsed": 21313,
     "status": "ok",
     "timestamp": 1607763955972,
     "user": {
      "displayName": "Veronika Sotskova",
      "photoUrl": "https://lh3.googleusercontent.com/a-/AOh14GhLNN43JKAW1NCIumyulALF7c7-9n3XWD50sXnK=s64",
      "userId": "13222701999781590371"
     },
     "user_tz": -180
    },
    "id": "MqvdezBzHNWp",
    "outputId": "552d689f-c704-49bd-aba8-6b31160d5f04"
   },
   "outputs": [
    {
     "data": {
      "text/plain": [
       "array([0, 1, 0, 1, 0, 0, 0, 0, 1, 1, 0, 0, 0, 0, 0, 0, 0, 0, 0, 0, 0, 0,\n",
       "       0, 0, 1, 0, 0, 0, 0, 0, 0, 0, 0, 0, 0, 0, 0, 0, 0, 0, 0, 0, 0, 0,\n",
       "       0, 0, 0, 0, 0, 0, 0, 0, 0, 0, 0, 0, 0, 0, 0, 0, 0, 0, 0, 0, 0, 0,\n",
       "       0, 0, 0, 0, 0, 0, 0, 0, 0, 0, 0, 0, 0, 0, 0, 0, 0, 0, 0, 0, 0, 0,\n",
       "       0, 0, 0, 0, 0, 0, 0, 1, 0, 0, 0, 0, 0, 0, 0, 0, 0, 0, 0, 0, 0, 1,\n",
       "       1, 0, 0, 0, 0, 0, 0, 0, 0, 0, 1, 0, 0, 0, 0, 0, 0, 0, 0])"
      ]
     },
     "execution_count": 274,
     "metadata": {
      "tags": []
     },
     "output_type": "execute_result"
    }
   ],
   "source": [
    "from sklearn.model_selection import GridSearchCV\n",
    "from sklearn.ensemble import IsolationForest\n",
    "import warnings\n",
    "warnings.filterwarnings('ignore')\n",
    "\n",
    "gs = GridSearchCV(IsolationForest(random_state=42),\n",
    "                      param_grid = {'n_estimators' : [150],\n",
    "                                    'contamination' : [0.078],\n",
    "                                    'max_samples' : range(3, 8),\n",
    "                                    'bootstrap' : [True, False]},\n",
    "                    cv = 7, scoring='accuracy').fit(x_raw, y)\n",
    "  \n",
    "pred_forest = gs.predict(x_raw)\n",
    "pred_forest = (pred_forest == -1).astype(int)\n",
    "pred_forest\n"
   ]
  },
  {
   "cell_type": "code",
   "execution_count": null,
   "metadata": {
    "colab": {
     "base_uri": "https://localhost:8080/"
    },
    "executionInfo": {
     "elapsed": 18006,
     "status": "ok",
     "timestamp": 1607763955973,
     "user": {
      "displayName": "Veronika Sotskova",
      "photoUrl": "https://lh3.googleusercontent.com/a-/AOh14GhLNN43JKAW1NCIumyulALF7c7-9n3XWD50sXnK=s64",
      "userId": "13222701999781590371"
     },
     "user_tz": -180
    },
    "id": "iEGZdPREHwg3",
    "outputId": "ea6edb07-5717-4b1e-b740-5253e79258f8"
   },
   "outputs": [
    {
     "name": "stdout",
     "output_type": "stream",
     "text": [
      "Isolation Forest ROC:0.679, precision @ rank n:0.4444\n"
     ]
    }
   ],
   "source": [
    "evaluate_print('Isolation Forest', y, pred_forest)"
   ]
  },
  {
   "cell_type": "code",
   "execution_count": null,
   "metadata": {
    "id": "UGYRIkHcGW1e"
   },
   "outputs": [],
   "source": [
    "x_raw_2 = df[['Proline', 'Magnesium', 'Proanthocyanins', 'Alcalinity_of_ash', 'Hue', 'Flavanoids']].values"
   ]
  },
  {
   "cell_type": "code",
   "execution_count": null,
   "metadata": {
    "colab": {
     "base_uri": "https://localhost:8080/"
    },
    "executionInfo": {
     "elapsed": 965,
     "status": "ok",
     "timestamp": 1607764013578,
     "user": {
      "displayName": "Veronika Sotskova",
      "photoUrl": "https://lh3.googleusercontent.com/a-/AOh14GhLNN43JKAW1NCIumyulALF7c7-9n3XWD50sXnK=s64",
      "userId": "13222701999781590371"
     },
     "user_tz": -180
    },
    "id": "EH0QGYjjEHuE",
    "outputId": "b5cc4078-008f-477a-a33b-24f9f79fb030"
   },
   "outputs": [
    {
     "data": {
      "text/plain": [
       "(array([0, 0, 1, 0, 1, 1, 0, 0, 1, 1, 0, 0, 0, 0, 0, 0, 0, 0, 0, 0, 0, 0,\n",
       "        0, 0, 1, 0, 0, 0, 0, 1, 0, 0, 0, 0, 0, 0, 0, 0, 0, 0, 0, 0, 0, 0,\n",
       "        0, 0, 1, 0, 0, 0, 0, 0, 0, 0, 0, 0, 0, 0, 0, 0, 0, 0, 0, 0, 0, 0,\n",
       "        0, 0, 0, 0, 0, 0, 1, 0, 0, 0, 0, 0, 0, 0, 0, 0, 0, 0, 0, 0, 0, 0,\n",
       "        0, 0, 0, 0, 0, 0, 0, 0, 0, 0, 0, 0, 0, 0, 0, 0, 0, 0, 0, 0, 0, 0,\n",
       "        0, 0, 0, 0, 0, 0, 0, 0, 0, 0, 0, 0, 0, 0, 0, 0, 0, 0, 0]),\n",
       " array([1., 1., 1., 1., 1., 1., 1., 1., 1., 1., 0., 0., 0., 0., 0., 0., 0.,\n",
       "        0., 0., 0., 0., 0., 0., 0., 0., 0., 0., 0., 0., 0., 0., 0., 0., 0.,\n",
       "        0., 0., 0., 0., 0., 0., 0., 0., 0., 0., 0., 0., 0., 0., 0., 0., 0.,\n",
       "        0., 0., 0., 0., 0., 0., 0., 0., 0., 0., 0., 0., 0., 0., 0., 0., 0.,\n",
       "        0., 0., 0., 0., 0., 0., 0., 0., 0., 0., 0., 0., 0., 0., 0., 0., 0.,\n",
       "        0., 0., 0., 0., 0., 0., 0., 0., 0., 0., 0., 0., 0., 0., 0., 0., 0.,\n",
       "        0., 0., 0., 0., 0., 0., 0., 0., 0., 0., 0., 0., 0., 0., 0., 0., 0.,\n",
       "        0., 0., 0., 0., 0., 0., 0., 0., 0., 0.]))"
      ]
     },
     "execution_count": 278,
     "metadata": {
      "tags": []
     },
     "output_type": "execute_result"
    }
   ],
   "source": [
    "isol_forest2 = IsolationForest(n_estimators=150,\n",
    "                        contamination=0.078,\n",
    "                        bootstrap=True,\n",
    "                        random_state=42,\n",
    "                        max_samples=5).fit(x_raw_2, y)\n",
    "pred_forest2 = isol_forest2.predict(x_raw_2)\n",
    "pred_forest2 = (pred_forest2 == -1).astype(int)\n",
    "pred_forest2, y"
   ]
  },
  {
   "cell_type": "code",
   "execution_count": null,
   "metadata": {
    "colab": {
     "base_uri": "https://localhost:8080/"
    },
    "executionInfo": {
     "elapsed": 668,
     "status": "ok",
     "timestamp": 1607764015464,
     "user": {
      "displayName": "Veronika Sotskova",
      "photoUrl": "https://lh3.googleusercontent.com/a-/AOh14GhLNN43JKAW1NCIumyulALF7c7-9n3XWD50sXnK=s64",
      "userId": "13222701999781590371"
     },
     "user_tz": -180
    },
    "id": "qpuq4gd1GhsW",
    "outputId": "b246b873-2158-4436-9674-6fe76038a440"
   },
   "outputs": [
    {
     "name": "stdout",
     "output_type": "stream",
     "text": [
      "Isolation Forest2 ROC:0.7332, precision @ rank n:0.5556\n"
     ]
    }
   ],
   "source": [
    "evaluate_print('Isolation Forest2', y, pred_forest2)"
   ]
  }
 ],
 "metadata": {
  "colab": {
   "authorship_tag": "ABX9TyNP65cZjC2COcjTapdBTx0X",
   "collapsed_sections": [],
   "name": "Lab_6.ipynb",
   "provenance": []
  },
  "kernelspec": {
   "display_name": "Python 3",
   "language": "python",
   "name": "python3"
  },
  "language_info": {
   "codemirror_mode": {
    "name": "ipython",
    "version": 3
   },
   "file_extension": ".py",
   "mimetype": "text/x-python",
   "name": "python",
   "nbconvert_exporter": "python",
   "pygments_lexer": "ipython3",
   "version": "3.7.4"
  }
 },
 "nbformat": 4,
 "nbformat_minor": 1
}
